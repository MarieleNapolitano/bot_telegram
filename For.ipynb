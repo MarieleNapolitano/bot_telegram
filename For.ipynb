{
  "nbformat": 4,
  "nbformat_minor": 0,
  "metadata": {
    "colab": {
      "provenance": [],
      "authorship_tag": "ABX9TyNV8QghABJMW57Qw3Vfn3Mn",
      "include_colab_link": true
    },
    "kernelspec": {
      "name": "python3",
      "display_name": "Python 3"
    },
    "language_info": {
      "name": "python"
    }
  },
  "cells": [
    {
      "cell_type": "markdown",
      "metadata": {
        "id": "view-in-github",
        "colab_type": "text"
      },
      "source": [
        "<a href=\"https://colab.research.google.com/github/MarieleNapolitano/bot_telegram/blob/main/For.ipynb\" target=\"_parent\"><img src=\"https://colab.research.google.com/assets/colab-badge.svg\" alt=\"Open In Colab\"/></a>"
      ]
    },
    {
      "cell_type": "markdown",
      "source": [
        "Qual  o Maior Número em uma Lista"
      ],
      "metadata": {
        "id": "D60tx5VINuWF"
      }
    },
    {
      "cell_type": "code",
      "source": [
        "numeros = [3, 5, 7, 2, 8, 1]\n",
        "maior = numeros[0]\n",
        "\n",
        "for numero in numeros:\n",
        "    if numero > maior:\n",
        "        maior = numero\n",
        "\n",
        "print(\"O maior número é:\", maior)"
      ],
      "metadata": {
        "colab": {
          "base_uri": "https://localhost:8080/"
        },
        "id": "-1zXhJgkNogJ",
        "outputId": "194c6aed-099d-4069-dc73-94fba50dc30d"
      },
      "execution_count": 1,
      "outputs": [
        {
          "output_type": "stream",
          "name": "stdout",
          "text": [
            "O maior número é: 8\n"
          ]
        }
      ]
    },
    {
      "cell_type": "markdown",
      "source": [
        "Encontrar os Números Pares de uma Lista"
      ],
      "metadata": {
        "id": "v5bXjdZ-N2EM"
      }
    },
    {
      "cell_type": "code",
      "source": [
        "numeros = [1, 2, 3, 4, 5, 6, 7, 8, 9, 10]\n",
        "pares = []\n",
        "\n",
        "for numero in numeros:\n",
        "    if numero % 2 == 0:\n",
        "        pares.append(numero)\n",
        "\n",
        "print(\"Números pares:\", pares)"
      ],
      "metadata": {
        "colab": {
          "base_uri": "https://localhost:8080/"
        },
        "id": "bf90wOZ0N87h",
        "outputId": "07766713-e9f4-49a0-8cae-ddf64dc83bae"
      },
      "execution_count": 2,
      "outputs": [
        {
          "output_type": "stream",
          "name": "stdout",
          "text": [
            "Números pares: [2, 4, 6, 8, 10]\n"
          ]
        }
      ]
    },
    {
      "cell_type": "markdown",
      "source": [
        "Tabuada"
      ],
      "metadata": {
        "id": "RGPqHYGVOSIJ"
      }
    },
    {
      "cell_type": "code",
      "source": [
        "# Solicita ao usuário que insira um número para a tabuada\n",
        "numero = int(input(\"Digite um número para ver a tabuada: \"))\n",
        "\n",
        "# Loop para calcular e imprimir a tabuada de 1 a 10\n",
        "for i in range(1, 11):\n",
        "    resultado = numero * i\n",
        "    print(f\"{numero} x {i} = {resultado}\")"
      ],
      "metadata": {
        "colab": {
          "base_uri": "https://localhost:8080/"
        },
        "id": "SdtlRnVZOT9x",
        "outputId": "996934e6-2068-4319-9e1c-935bb933c24c"
      },
      "execution_count": 3,
      "outputs": [
        {
          "output_type": "stream",
          "name": "stdout",
          "text": [
            "Digite um número para ver a tabuada: 2\n",
            "2 x 1 = 2\n",
            "2 x 2 = 4\n",
            "2 x 3 = 6\n",
            "2 x 4 = 8\n",
            "2 x 5 = 10\n",
            "2 x 6 = 12\n",
            "2 x 7 = 14\n",
            "2 x 8 = 16\n",
            "2 x 9 = 18\n",
            "2 x 10 = 20\n"
          ]
        }
      ]
    },
    {
      "cell_type": "markdown",
      "source": [
        "Sequência de Fibonacci"
      ],
      "metadata": {
        "id": "cDgvv7EVOpkX"
      }
    },
    {
      "cell_type": "code",
      "source": [
        "# Solicita ao usuário que insira a quantidade de termos\n",
        "n = int(input(\"Digite a quantidade de termos da sequência de Fibonacci: \"))\n",
        "\n",
        "# Inicializa os primeiros dois termos da sequência\n",
        "a, b = 0, 1\n",
        "\n",
        "# Loop para gerar a sequência de Fibonacci\n",
        "for i in range(n):\n",
        "    print(a, end=' ')\n",
        "    a, b = b, a + b"
      ],
      "metadata": {
        "colab": {
          "base_uri": "https://localhost:8080/"
        },
        "id": "OOYrPfCaOp3P",
        "outputId": "b2ca257c-6774-49f0-e1b8-36cd072fcf34"
      },
      "execution_count": 4,
      "outputs": [
        {
          "output_type": "stream",
          "name": "stdout",
          "text": [
            "Digite a quantidade de termos da sequência de Fibonacci: 20\n",
            "0 1 1 2 3 5 8 13 21 34 55 89 144 233 377 610 987 1597 2584 4181 "
          ]
        }
      ]
    },
    {
      "cell_type": "markdown",
      "source": [
        "Verificar se um Número é Primo"
      ],
      "metadata": {
        "id": "TUejxhnEO-2x"
      }
    },
    {
      "cell_type": "code",
      "source": [
        "# Solicita ao usuário que insira um número\n",
        "numero = int(input(\"Digite um número: \"))\n",
        "\n",
        "# Assume que o número é primo\n",
        "eh_primo = True\n",
        "\n",
        "# Verifica se o número é primo\n",
        "for i in range(2, numero):\n",
        "    if numero % i == 0:\n",
        "        eh_primo = False\n",
        "        break\n",
        "\n",
        "# Imprime se o número é primo ou não\n",
        "if eh_primo:\n",
        "    print(f\"{numero} é um número primo.\")\n",
        "else:\n",
        "    print(f\"{numero} não é um número primo.\")"
      ],
      "metadata": {
        "id": "seRtmKgeO_JR"
      },
      "execution_count": null,
      "outputs": []
    }
  ]
}